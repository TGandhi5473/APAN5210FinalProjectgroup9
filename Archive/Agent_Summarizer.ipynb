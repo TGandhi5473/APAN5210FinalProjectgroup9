{
 "cells": [
  {
   "cell_type": "markdown",
   "metadata": {},
   "source": []
  },
  {
   "cell_type": "code",
   "execution_count": 11,
   "metadata": {},
   "outputs": [],
   "source": [
    "import openai\n",
    "\n",
    "openai.api_key = \"our-key\"\n"
   ]
  },
  {
   "cell_type": "code",
   "execution_count": 1,
   "metadata": {},
   "outputs": [],
   "source": [
    "#Agent to summarize travel reviews and results\n",
    "\n",
    "from agno.agent import Agent\n",
    "from agno.models.openai import OpenAIChat\n",
    "\n",
    "\n",
    "\n",
    "\n"
   ]
  },
  {
   "cell_type": "code",
   "execution_count": 3,
   "metadata": {},
   "outputs": [],
   "source": [
    "class SummarizerAgent:\n",
    "    def __init__(self, model_id: str = \"gpt-3.5-turbo\"):\n",
    "        # Initialize Agno Agent\n",
    "        self.agent = Agent(\n",
    "            model=OpenAIChat(id=model_id),\n",
    "            description=\"You are a travel recommendation summarizer. You take outputs from the RecommenderAgent and generate concise summaries for users.\",\n",
    "            markdown=True\n",
    "        )\n",
    "\n",
    "    def summarize_recommendations(self, recommendations_text: str, style: str = \"bullet\") -> str:\n",
    "        \"\"\"Summarizes processed recommendations according to style.\"\"\"\n",
    "        prompt = self._build_prompt(recommendations_text, style)\n",
    "        return self.agent.run(prompt)\n",
    "\n",
    "    def _build_prompt(self, text, style):\n",
    "        \"\"\"Build prompt based on the requested summary style.\"\"\"\n",
    "        if style == \"bullet\":\n",
    "            return f\"Summarize the following recommended NYC travel places into concise bullet points:\\n\\n{text}\"\n",
    "        elif style == \"headline\":\n",
    "            return f\"Create a short and catchy headline summarizing these recommended NYC travel places:\\n\\n{text}\"\n",
    "        else:\n",
    "            return f\"Summarize the following NYC travel recommendations into a short paragraph:\\n\\n{text}\"\n",
    "\n"
   ]
  }
 ],
 "metadata": {
  "kernelspec": {
   "display_name": "base",
   "language": "python",
   "name": "python3"
  },
  "language_info": {
   "codemirror_mode": {
    "name": "ipython",
    "version": 3
   },
   "file_extension": ".py",
   "mimetype": "text/x-python",
   "name": "python",
   "nbconvert_exporter": "python",
   "pygments_lexer": "ipython3",
   "version": "3.12.7"
  }
 },
 "nbformat": 4,
 "nbformat_minor": 2
}
