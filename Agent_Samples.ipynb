{
  "nbformat": 4,
  "nbformat_minor": 0,
  "metadata": {
    "colab": {
      "provenance": [],
      "authorship_tag": "ABX9TyOeZCiSCgbL5SpENqFIv4cm",
      "include_colab_link": true
    },
    "kernelspec": {
      "name": "python3",
      "display_name": "Python 3"
    },
    "language_info": {
      "name": "python"
    }
  },
  "cells": [
    {
      "cell_type": "markdown",
      "metadata": {
        "id": "view-in-github",
        "colab_type": "text"
      },
      "source": [
        "<a href=\"https://colab.research.google.com/github/TGandhi5473/APAN5210FinalProjectgroup9/blob/main/Agent_Samples.ipynb\" target=\"_parent\"><img src=\"https://colab.research.google.com/assets/colab-badge.svg\" alt=\"Open In Colab\"/></a>"
      ]
    },
    {
      "source": [
        "from agno.agent import Agent\n",
        "from agno.models.mistral import Mistral\n",
        "from agno.tools.duckduckgo import DuckDuckGoTools\n",
        "\n",
        "class WebSearchAgent(agno.Agent):\n",
        "    def __init__(self, shared_memory):\n",
        "        super().__init__(\n",
        "            model=Mistral(id=\"mistral-7b-instruct\"),  # Use Mistral model\n",
        "            tools=[DuckDuckGoTools()],\n",
        "        )\n",
        "        self.shared_memory = shared_memory\n",
        "        self.shared_memory.set(\"search_query\", search_query)\n",
        "\n",
        "\n",
        "    def execute(self):\n",
        "        user_input = self.shared_memory.get(\"user_input\")\n",
        "\n",
        "        # Use Mistral to determine search query\n",
        "        search_query = self.determine_search_query(user_input)\n",
        "\n",
        "        # Perform web search using DuckDuckGoTools\n",
        "        search_results = self.tools[0].search(search_query)\n",
        "\n",
        "        # Store search results in shared memory\n",
        "        self.shared_memory.set(\"search_results\", search_results)\n",
        "        recommender_agent = RecommenderAgent(self.shared_memory)\n",
        "        recommender_agent.execute()\n",
        "\n",
        "\n",
        "    def determine_search_query(self, user_input):\n",
        "        # Construct prompt for Mistral\n",
        "        prompt = f\"Given the following user input: '{user_input}', what is a suitable search query to find relevant travel information?\"\n",
        "\n",
        "        # Use Mistral to generate search query\n",
        "        search_query = self.model.generate_text(prompt)\n",
        "\n",
        "        return search_query"
      ],
      "cell_type": "code",
      "metadata": {
        "id": "WKL97gRjh_XF"
      },
      "execution_count": null,
      "outputs": []
    },
    {
      "source": [
        "from agno.agent import Agent\n",
        "from agno.models.mistral import Mistral\n",
        "from agno.tools.duckduckgo import DuckDuckGoTools\n",
        "\n",
        "class WebSearchAgent(agno.Agent):\n",
        "    def __init__(self, shared_memory):\n",
        "        super().__init__(\n",
        "            model=Mistral(id=\"mistral-7b-instruct\"),  # Use Mistral model\n",
        "            tools=[DuckDuckGoTools()],\n",
        "        )\n",
        "        self.shared_memory = shared_memory\n",
        "\n",
        "    def execute(self):\n",
        "        user_input = self.shared_memory.get(\"user_input\")\n",
        "\n",
        "        # Use Mistral to determine search query\n",
        "        search_query = self.determine_search_query(user_input)\n",
        "\n",
        "        # Store search query in shared memory\n",
        "        self.shared_memory.set(\"search_query\", search_query)\n",
        "\n",
        "        # Perform web search using DuckDuckGoTools\n",
        "        search_results = self.tools[0].search(search_query)\n",
        "\n",
        "        # Store search results in shared memory\n",
        "        self.shared_memory.set(\"search_results\", search_results)\n",
        "\n",
        "        # Call Recommender Agent\n",
        "        recommender_agent = RecommenderAgent(self.shared_memory)\n",
        "        recommender_agent.execute()\n",
        "\n",
        "        def determine_search_query(self, user_input):\n",
        "          prompt = f\"Given the following user input: '{user_input}', what is a suitable search query to find relevant travel information?\"\n",
        "\n",
        "        # Use Mistral to generate search query\n",
        "          search_query = self.model.generate_text(prompt)\n",
        "\n",
        "          return search_query\n",
        ""
      ],
      "cell_type": "code",
      "metadata": {
        "id": "8jXgF8LuuGaF"
      },
      "execution_count": null,
      "outputs": []
    },
    {
      "source": [
        "shared_memory = {\"user_input\": \"I want to visit a beach in Thailand in July.\"}\n",
        "\n",
        "web_search_agent = WebSearchAgent(shared_memory)\n",
        "web_search_agent.execute()\n",
        "\n",
        "search_results = shared_memory.get(\"search_results\")"
      ],
      "cell_type": "code",
      "metadata": {
        "id": "zu90agvpiExv"
      },
      "execution_count": null,
      "outputs": []
    },
    {
      "source": [
        "class RecommenderAgent(agno.Agent):\n",
        "    def __init__(self, shared_memory):\n",
        "        super().__init__(\n",
        "            model=Mistral(id=\"mistral-7b-instruct\"),  # Use Mistral model\n",
        "            tools=[],  # No tools needed for this agent\n",
        "        )\n",
        "        self.shared_memory = shared_memory\n",
        "\n",
        "    def execute(self):\n",
        "        user_input = self.shared_memory.get(\"user_input\")\n",
        "        search_query = self.shared_memory.get(\"search_query\")\n",
        "        search_results = self.shared_memory.get(\"search_results\")\n",
        "\n",
        "        # Use Mistral to evaluate the search path\n",
        "        evaluation = self.evaluate_search_path(user_input, search_query, search_results)\n",
        "\n",
        "        # Store evaluation in shared memory\n",
        "        self.shared_memory.set(\"evaluation\", evaluation)\n",
        "\n",
        "    def evaluate_search_path(self, user_input, search_query, search_results):\n",
        "        # Construct prompt for Mistral\n",
        "        prompt = f\"\"\"\n",
        "        Given the following user input: '{user_input}',\n",
        "        the search query used: '{search_query}',\n",
        "        and the search results obtained: '{search_results}',\n",
        "        evaluate the effectiveness of the search path in finding relevant travel information.\n",
        "        Provide a score from 1 to 10 (1 being poor and 10 being excellent) and a brief justification.\n",
        "        \"\"\"\n",
        "\n",
        "        # Use Mistral to generate evaluation\n",
        "        evaluation = self.model.generate_text(prompt)\n",
        "\n",
        "        return evaluation"
      ],
      "cell_type": "code",
      "metadata": {
        "id": "vV7ulJsutQwB"
      },
      "execution_count": null,
      "outputs": []
    }
  ]
}