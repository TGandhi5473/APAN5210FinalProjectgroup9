{
 "cells": [
  {
   "cell_type": "code",
   "execution_count": null,
   "metadata": {},
   "outputs": [],
   "source": [
    "#Agent to summarize travel reviews and results\n",
    "\n",
    "class SummarizerAgent:\n",
    "    def __init__(self, model=\"gpt-3.5-turbo\"):\n",
    "        pass\n",
    "\n",
    "    def summarize(self, text: str, style: str = \"bullet\") -> str:\n",
    "        \"\"\"\n",
    "        Summarizes a travel review or result.\n",
    "        style: 'bullet', 'paragraph', or 'headline'\n",
    "        \"\"\"\n",
    "        pass\n",
    "\n"
   ]
  },
  {
   "cell_type": "code",
   "execution_count": null,
   "metadata": {},
   "outputs": [],
   "source": [
    "#Input example\n",
    "\n",
    "{\n",
    "  \"text\": \"Joe's Pizza in Greenwich Village has an iconic thin crust...\",\n",
    "  \"style\": \"paragraph\"\n",
    "}\n",
    "\n",
    "#Mock data\n",
    "\n",
    "review_data = [\n",
    "    {\"location\": \"Joe's Pizza\", \"review\": \"Best thin crust pizza in Manhattan...\"},\n",
    "    {\"location\": \"MoMA\", \"review\": \"The exhibits rotate often. I loved the modern section...\"},\n",
    "    {\"location\": \"Smorgasburg\", \"review\": \"If you like food trucks and outdoor vibes...\"}\n",
    "]\n",
    "\n"
   ]
  },
  {
   "cell_type": "code",
   "execution_count": null,
   "metadata": {},
   "outputs": [],
   "source": [
    "#Output Format\n",
    "\n",
    "{\n",
    "  \"location\": \"Joe's Pizza\",\n",
    "  \"summary\": \"Iconic thin crust pizza spot. Quick service, always crowded.\",\n",
    "  \"source_url\": \"...\",\n",
    "  \"confidence_score\": 0.95  // (optional, for the critique agent)\n",
    "}\n"
   ]
  }
 ],
 "metadata": {
  "language_info": {
   "name": "python"
  }
 },
 "nbformat": 4,
 "nbformat_minor": 2
}
